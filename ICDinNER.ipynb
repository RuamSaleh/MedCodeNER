{
 "cells": [
  {
   "cell_type": "code",
   "execution_count": 53,
   "id": "a6478b05-153a-4fd9-afe8-74491ef8fc0d",
   "metadata": {},
   "outputs": [],
   "source": [
    "disease_to_code = {\n",
    "    \"type 2 diabetes mellitus\": \"E11\",\n",
    "    \"asthma\": \"J45\",\n",
    "    \"viral hepatitis\": \"B18\",\n",
    "    \"chronic kidney failure\": \"N18\",\n",
    "    \"essential hypertension\": \"I10\",\n",
    "    \"acute myocardial infarction\": \"I21\",\n",
    "    \"osteoarthritis of the knee\": \"M17\",\n",
    "    \"major depressive disorder\": \"F32\",\n",
    "    \"anemia due to chronic disease\": \"D63\",\n",
    "    \"malignant neoplasm of the lung\": \"C34\"\n",
    "}"
   ]
  },
  {
   "cell_type": "code",
   "execution_count": 54,
   "id": "0d627750-0669-40e4-8dbe-cfbb5c47dd8e",
   "metadata": {},
   "outputs": [],
   "source": [
    "TRAIN_DATA = []\n",
    "for disease, code in disease_to_code.items():\n",
    "    text = f\"The patient has been diagnosed with {disease}.\"\n",
    "    start = text.find(disease)\n",
    "    end = start + len(disease)\n",
    "    TRAIN_DATA.append((text, {\"entities\": [(start, end, \"Disease\")]}))"
   ]
  },
  {
   "cell_type": "code",
   "execution_count": 55,
   "id": "2a46a90c-a9a0-4bc2-9e32-6d9b4eef599b",
   "metadata": {},
   "outputs": [],
   "source": [
    "import spacy\n",
    "from spacy.training.example import Example\n",
    "nlp = spacy.blank(\"en\")\n",
    "ner = nlp.add_pipe(\"ner\")\n",
    "ner.add_label(\"Disease\")\n",
    "optimizer = nlp.begin_training()"
   ]
  },
  {
   "cell_type": "code",
   "execution_count": 56,
   "id": "05150c07-5051-4c65-b21d-9b70859fe27a",
   "metadata": {},
   "outputs": [],
   "source": [
    "for i in range(20):\n",
    "    for text, annotations in TRAIN_DATA:\n",
    "        doc = nlp.make_doc(text)\n",
    "        example = Example.from_dict(doc, annotations)\n",
    "        nlp.update([example], drop=0.5)"
   ]
  },
  {
   "cell_type": "code",
   "execution_count": 57,
   "id": "0b62ba00-489d-48b2-aa10-ede3dfddbfa1",
   "metadata": {},
   "outputs": [
    {
     "name": "stdout",
     "output_type": "stream",
     "text": [
      "Model trained and saved successfully.\n"
     ]
    }
   ],
   "source": [
    "nlp.to_disk(\"disease_ner_model\")\n",
    "print(\"Model trained and saved successfully.\")"
   ]
  },
  {
   "cell_type": "code",
   "execution_count": 58,
   "id": "fd15a6f3-9436-4a79-aedc-f6b68124e649",
   "metadata": {},
   "outputs": [],
   "source": [
    "nlp = spacy.load(\"disease_ner_model\")"
   ]
  },
  {
   "cell_type": "code",
   "execution_count": 59,
   "id": "64663207-ca13-459e-badd-ba1f534ffe69",
   "metadata": {},
   "outputs": [],
   "source": [
    "text = \"The patient has been diagnosed with acute myocardial infarction.\"\n",
    "doc = nlp(text)"
   ]
  },
  {
   "cell_type": "code",
   "execution_count": 60,
   "id": "8df40e99-1722-49f1-9205-eed329216f9d",
   "metadata": {},
   "outputs": [
    {
     "name": "stdout",
     "output_type": "stream",
     "text": [
      "Disease: acute myocardial infarction, Code: I21\n"
     ]
    }
   ],
   "source": [
    "for ent in doc.ents:\n",
    "    if ent.label_ == \"Disease\":\n",
    "        disease = ent.text\n",
    "        code = disease_to_code.get(disease, \"Unknown code\")\n",
    "        print(f\"Disease: {disease}, Code: {code}\")"
   ]
  },
  {
   "cell_type": "code",
   "execution_count": null,
   "id": "0d0d3067-ba24-4af2-9907-bd165df1d7fe",
   "metadata": {},
   "outputs": [],
   "source": []
  },
  {
   "cell_type": "code",
   "execution_count": null,
   "id": "e4a1c8c6-7597-4b73-be11-015f45585b8a",
   "metadata": {},
   "outputs": [],
   "source": []
  }
 ],
 "metadata": {
  "kernelspec": {
   "display_name": "Python 3 (ipykernel)",
   "language": "python",
   "name": "python3"
  },
  "language_info": {
   "codemirror_mode": {
    "name": "ipython",
    "version": 3
   },
   "file_extension": ".py",
   "mimetype": "text/x-python",
   "name": "python",
   "nbconvert_exporter": "python",
   "pygments_lexer": "ipython3",
   "version": "3.12.7"
  }
 },
 "nbformat": 4,
 "nbformat_minor": 5
}
