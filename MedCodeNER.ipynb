{
 "cells": [
  {
   "cell_type": "code",
   "execution_count": 59,
   "id": "3265f728-8d8e-4cec-9ac9-04d024efdc31",
   "metadata": {},
   "outputs": [],
   "source": [
    "#https://github.com/urchade/GLiNER/tree/main/examples\n",
    "import tkinter as tk\n",
    "from tkinter import scrolledtext\n",
    "import spacy\n",
    "from spacy.training.example import Example"
   ]
  },
  {
   "cell_type": "code",
   "execution_count": 60,
   "id": "a6c3a8d5-2a9e-481b-bd95-56e584acfda3",
   "metadata": {},
   "outputs": [],
   "source": [
    "#https://icd.who.int/browse11\n",
    "#dictionary for disease names(keys) to medical codes(values). \n",
    "disease_to_code = {\n",
    "    \"type 2 diabetes mellitus\": \"E11\",\n",
    "    \"asthma\": \"J45\",\n",
    "    \"viral hepatitis\": \"B18\",\n",
    "    \"chronic kidney failure\": \"N18\",\n",
    "    \"essential hypertension\": \"I10\",\n",
    "    \"acute myocardial infarction\": \"I21\",\n",
    "    \"osteoarthritis of the knee\": \"M17\",\n",
    "    \"major depressive disorder\": \"F32\",\n",
    "    \"anemia due to chronic disease\": \"D63\",\n",
    "    \"malignant neoplasm of the lung\": \"C34\"\n",
    "}"
   ]
  },
  {
   "cell_type": "code",
   "execution_count": 61,
   "id": "a98e73a9-f8a9-4157-974c-d44d23917171",
   "metadata": {},
   "outputs": [],
   "source": [
    "TRAIN_DATA = []\n",
    "for disease, code in disease_to_code.items():\n",
    "    text = f\"The patient has been diagnosed with {disease}.\"\n",
    "    start = text.find(disease)\n",
    "    end = start + len(disease)\n",
    "    TRAIN_DATA.append((text, {\"entities\": [(start, end, \"Disease\")]}))"
   ]
  },
  {
   "cell_type": "code",
   "execution_count": 62,
   "id": "5fdb337f-281c-4e34-9e43-132e6144b7cb",
   "metadata": {},
   "outputs": [],
   "source": [
    "nlp = spacy.blank(\"en\")\n",
    "ner = nlp.add_pipe(\"ner\")\n",
    "ner.add_label(\"Disease\")\n",
    "optimizer = nlp.begin_training()\n",
    "for i in range(20):\n",
    "    for text, annotations in TRAIN_DATA:\n",
    "        doc = nlp.make_doc(text)\n",
    "        example = Example.from_dict(doc, annotations)\n",
    "        nlp.update([example], drop=0.5)"
   ]
  },
  {
   "cell_type": "code",
   "execution_count": 63,
   "id": "4db6f5a0-b2c5-4a4b-b376-6fed9e0802f9",
   "metadata": {},
   "outputs": [
    {
     "name": "stdout",
     "output_type": "stream",
     "text": [
      "Model trained and saved successfully.\n"
     ]
    }
   ],
   "source": [
    "#Saves the trained model and print Prints a success message.\n",
    "nlp.to_disk(\"disease_ner_model\")\n",
    "print(\"Model trained and saved successfully.\")"
   ]
  },
  {
   "cell_type": "code",
   "execution_count": 64,
   "id": "afcc45f9-4b74-41e2-a619-a2e3ec9b9470",
   "metadata": {},
   "outputs": [],
   "source": [
    "#https://github.com/riyajha2305/Healthcare-Diagnosis-Chatbot-MS-Hackathon\n",
    "# Function to process user input and display results in GUI \n",
    "nlp = spacy.load(\"disease_ner_model\")\n",
    "def process_input():\n",
    "    result_text.delete(1.0, tk.END)\n",
    "    user_input = input_text.get(\"1.0\", tk.END).strip()\n",
    "    if not user_input:\n",
    "        result_text.insert(tk.END, \"Please enter a valid sentence.\")\n",
    "        return\n",
    "    doc = nlp(user_input)\n",
    "    found_diseases = False\n",
    "    for ent in doc.ents:\n",
    "        if ent.label_ == \"Disease\":\n",
    "            found_diseases = True\n",
    "            disease = ent.text\n",
    "            code = disease_to_code.get(disease, \"Unknown code\")\n",
    "            result_text.insert(tk.END, f\"Disease: {disease}, Code: {code}\\n\")\n",
    "    if not found_diseases:\n",
    "        result_text.insert(tk.END, \"No diseases detected in the input.\")"
   ]
  },
  {
   "cell_type": "code",
   "execution_count": 65,
   "id": "8f55f28f-df12-4704-996b-971d8672cbba",
   "metadata": {},
   "outputs": [],
   "source": [
    "#the main window\n",
    "root = tk.Tk()\n",
    "root.title(\"Medical Coding Recognition Tool\")\n",
    "root.geometry(\"600x400\")\n",
    "root.configure(bg=\"#f0f8ff\")\n",
    "title_label = tk.Label(root, text=\"Medical Coding Recognition Tool\", font=(\"Arial\", 18, \"bold\"), bg=\"#f0f8ff\", fg=\"#005a9c\")\n",
    "title_label.pack(pady=10)\n",
    "instructions_label = tk.Label(root, text=\"Enter a sentence describing a disease:\", font=(\"Arial\", 12), bg=\"#f0f8ff\", fg=\"#333333\")\n",
    "instructions_label.pack()\n",
    "input_text = scrolledtext.ScrolledText(root, wrap=tk.WORD, width=60, height=5, font=(\"Arial\", 12))\n",
    "input_text.pack(pady=10)\n",
    "process_button = tk.Button(root, text=\"Recognize Diseases\", command=process_input, font=(\"Arial\", 12, \"bold\"), bg=\"#005a9c\", fg=\"white\")\n",
    "process_button.pack(pady=10)\n",
    "result_text = scrolledtext.ScrolledText(root, wrap=tk.WORD, width=60, height=8, font=(\"Arial\", 12), state='normal')\n",
    "result_text.pack(pady=10)\n",
    "root.mainloop()"
   ]
  },
  {
   "cell_type": "code",
   "execution_count": null,
   "id": "165a62d2-23ab-4fdf-83a3-f21472700a39",
   "metadata": {},
   "outputs": [],
   "source": []
  }
 ],
 "metadata": {
  "kernelspec": {
   "display_name": "Python 3 (ipykernel)",
   "language": "python",
   "name": "python3"
  },
  "language_info": {
   "codemirror_mode": {
    "name": "ipython",
    "version": 3
   },
   "file_extension": ".py",
   "mimetype": "text/x-python",
   "name": "python",
   "nbconvert_exporter": "python",
   "pygments_lexer": "ipython3",
   "version": "3.12.7"
  }
 },
 "nbformat": 4,
 "nbformat_minor": 5
}
